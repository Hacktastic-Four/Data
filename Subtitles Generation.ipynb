{
 "cells": [
  {
   "cell_type": "markdown",
   "id": "18b5738c",
   "metadata": {},
   "source": [
    "# Youtube Downloader"
   ]
  },
  {
   "cell_type": "code",
   "execution_count": 3,
   "id": "085b7103",
   "metadata": {},
   "outputs": [],
   "source": [
    "ls = [\n",
    "    \"https://www.youtube.com/watch?v=GoM-64EkchU\"\n",
    "]"
   ]
  },
  {
   "cell_type": "code",
   "execution_count": 5,
   "id": "e53e7b08",
   "metadata": {},
   "outputs": [],
   "source": [
    "from pytube import YouTube\n",
    "\n",
    "def Download(link):\n",
    "    youtubeObject = YouTube(link)\n",
    "    youtubeObject = youtubeObject.streams.get_highest_resolution()\n",
    "    try:\n",
    "        youtubeObject.download()\n",
    "    except:\n",
    "        print(\"An error has occurred\")\n",
    "    print(\"Download is completed successfully\")\n",
    "\n",
    "    \n",
    "# for i in range(len(ls)):\n",
    "#     link = ls[i]\n",
    "#     Download(link)"
   ]
  },
  {
   "cell_type": "markdown",
   "id": "1afe4644",
   "metadata": {},
   "source": [
    "# Downloading Transcipt From Youtube"
   ]
  },
  {
   "cell_type": "code",
   "execution_count": 16,
   "id": "082f6115",
   "metadata": {},
   "outputs": [],
   "source": [
    "from youtube_transcript_api import YouTubeTranscriptApi\n",
    "video_id = \"GoM-64EkchU\"\n",
    "subs =  YouTubeTranscriptApi.get_transcript(video_id)"
   ]
  },
  {
   "cell_type": "code",
   "execution_count": 21,
   "id": "e5036bdb",
   "metadata": {},
   "outputs": [],
   "source": [
    "subtitle = \"\"\n",
    "for i in subs:\n",
    "    subtitle += i['text']+\" \""
   ]
  },
  {
   "cell_type": "markdown",
   "id": "a41d421a",
   "metadata": {},
   "source": [
    "# Subtitles Generation"
   ]
  },
  {
   "cell_type": "code",
   "execution_count": 2,
   "id": "96591681",
   "metadata": {},
   "outputs": [],
   "source": [
    "import pvleopard\n",
    "access_key = \"C6VWKOxIaasmIl4mjfnimk7MmKVwx7ygl6zuDDFXBgiM+DQUr7e4zA==\"\n",
    "leopard = pvleopard.create(access_key=access_key)"
   ]
  },
  {
   "cell_type": "markdown",
   "id": "3021b47a",
   "metadata": {},
   "source": [
    "# Voice To Text"
   ]
  },
  {
   "cell_type": "code",
   "execution_count": 8,
   "id": "df5e83bc",
   "metadata": {},
   "outputs": [],
   "source": [
    "audio_path = \"C:/Users/HP/Hack 7.0/vid1.mp4\""
   ]
  },
  {
   "cell_type": "code",
   "execution_count": 9,
   "id": "25f111e3",
   "metadata": {},
   "outputs": [],
   "source": [
    "transcript, words = leopard.process_file(audio_path)"
   ]
  },
  {
   "cell_type": "markdown",
   "id": "d144220b",
   "metadata": {},
   "source": [
    "# Checking Accuracy"
   ]
  },
  {
   "cell_type": "code",
   "execution_count": 27,
   "id": "730db1d4",
   "metadata": {},
   "outputs": [
    {
     "name": "stdout",
     "output_type": "stream",
     "text": [
      "Cosine Similarity :  98.15122040495613\n"
     ]
    },
    {
     "name": "stderr",
     "output_type": "stream",
     "text": [
      "C:\\Users\\HP\\AppData\\Local\\Programs\\Python\\Python310\\lib\\site-packages\\sklearn\\utils\\deprecation.py:87: FutureWarning: Function get_feature_names is deprecated; get_feature_names is deprecated in 1.0 and will be removed in 1.2. Please use get_feature_names_out instead.\n",
      "  warnings.warn(msg, category=FutureWarning)\n",
      "C:\\Users\\HP\\AppData\\Local\\Programs\\Python\\Python310\\lib\\site-packages\\sklearn\\utils\\deprecation.py:87: FutureWarning: Function get_feature_names is deprecated; get_feature_names is deprecated in 1.0 and will be removed in 1.2. Please use get_feature_names_out instead.\n",
      "  warnings.warn(msg, category=FutureWarning)\n"
     ]
    }
   ],
   "source": [
    "import pandas as pd\n",
    "from sklearn.feature_extraction.text import CountVectorizer\n",
    "count_vect = CountVectorizer()\n",
    "\n",
    "Document1 = subtitle\n",
    "Document2 = transcript\n",
    "\n",
    "corpus = [Document1,Document2]\n",
    "\n",
    "X_train_counts = count_vect.fit_transform(corpus)\n",
    "\n",
    "pd.DataFrame(X_train_counts.toarray(),columns=count_vect.get_feature_names(),index=['Document 1','Document 2'])\n",
    "\n",
    "from sklearn.feature_extraction.text import TfidfVectorizer\n",
    "vectorizer = TfidfVectorizer()\n",
    "\n",
    "trsfm=vectorizer.fit_transform(corpus)\n",
    "pd.DataFrame(trsfm.toarray(),columns=vectorizer.get_feature_names(),index=['Document 1','Document 2'])\n",
    "\n",
    "\n",
    "from sklearn.metrics.pairwise import cosine_similarity\n",
    "\n",
    "cs = cosine_similarity(trsfm[0:1], trsfm)[0][1] * 100\n",
    "\n",
    "print(\"Cosine Similarity : \",cs)"
   ]
  },
  {
   "cell_type": "markdown",
   "id": "fd818dd7",
   "metadata": {},
   "source": [
    "# Converting Subtitles in srt Format"
   ]
  },
  {
   "cell_type": "code",
   "execution_count": 39,
   "id": "13b9c0a6",
   "metadata": {},
   "outputs": [],
   "source": [
    "from typing import Sequence\n",
    "from typing import Optional\n",
    "\n",
    "def second_to_timecode(x: float) -> str:\n",
    "    hour, x = divmod(x, 3600)\n",
    "    minute, x = divmod(x, 60)\n",
    "    second, x = divmod(x, 1)\n",
    "    millisecond = int(x * 1000.)\n",
    "\n",
    "\n",
    "    return '%.2d:%.2d:%.2d,%.3d' % (hour, minute, second, millisecond)\n",
    "\n",
    "\n",
    "def to_srt(\n",
    "        words: Sequence[pvleopard.Leopard.Word],\n",
    "        endpoint_sec: float = 1.,\n",
    "        length_limit: Optional[int] = 16) -> str:\n",
    "    def _helper(end: int) -> None:\n",
    "        lines.append(\"%d\" % section)\n",
    "        lines.append(\n",
    "            \"%s --> %s\" %\n",
    "            (\n",
    "                second_to_timecode(words[start].start_sec),\n",
    "                second_to_timecode(words[end].end_sec)\n",
    "            )\n",
    "        )\n",
    "        lines.append(' '.join(x.word for x in words[start:(end + 1)]))\n",
    "        lines.append('')\n",
    "\n",
    "\n",
    "    lines = list()\n",
    "    section = 0\n",
    "    start = 0\n",
    "    for k in range(1, len(words)):\n",
    "        if ((words[k].start_sec - words[k - 1].end_sec) >= endpoint_sec) or \\\n",
    "                (length_limit is not None and (k - start) >= length_limit):\n",
    "            _helper(k - 1)\n",
    "            start = k\n",
    "            section += 1\n",
    "    _helper(len(words) - 1)\n",
    "\n",
    "\n",
    "    return '\\n'.join(lines)"
   ]
  },
  {
   "cell_type": "markdown",
   "id": "617c9e91",
   "metadata": {},
   "source": [
    "# Storing srt file in the Corresponding Folder"
   ]
  },
  {
   "cell_type": "code",
   "execution_count": 44,
   "id": "234efae0",
   "metadata": {},
   "outputs": [],
   "source": [
    "import os\n",
    "subtitle_path = r\"C:/Users/HP/Hack 7.0/vid1.srt\"\n",
    "with open(subtitle_path, 'w') as f:\n",
    "    f.write(to_srt(words))"
   ]
  },
  {
   "cell_type": "code",
   "execution_count": null,
   "id": "44b95627",
   "metadata": {},
   "outputs": [],
   "source": []
  }
 ],
 "metadata": {
  "kernelspec": {
   "display_name": "Python 3 (ipykernel)",
   "language": "python",
   "name": "python3"
  },
  "language_info": {
   "codemirror_mode": {
    "name": "ipython",
    "version": 3
   },
   "file_extension": ".py",
   "mimetype": "text/x-python",
   "name": "python",
   "nbconvert_exporter": "python",
   "pygments_lexer": "ipython3",
   "version": "3.10.2"
  }
 },
 "nbformat": 4,
 "nbformat_minor": 5
}
