{
 "cells": [
  {
   "cell_type": "markdown",
   "id": "5c126607",
   "metadata": {},
   "source": [
    "# Initialiazation"
   ]
  },
  {
   "cell_type": "code",
   "execution_count": 9,
   "id": "c8576295",
   "metadata": {},
   "outputs": [],
   "source": [
    "main_dir = r\"C:/Users/HP/Hack 7.0\"\n",
    "folder_uid = 33"
   ]
  },
  {
   "cell_type": "markdown",
   "id": "4b0a6115",
   "metadata": {},
   "source": [
    "# Subtitles Generation"
   ]
  },
  {
   "cell_type": "code",
   "execution_count": 10,
   "id": "bda06e1d",
   "metadata": {},
   "outputs": [],
   "source": [
    "import pvleopard\n",
    "access_key = \"C6VWKOxIaasmIl4mjfnimk7MmKVwx7ygl6zuDDFXBgiM+DQUr7e4zA==\"\n",
    "leopard = pvleopard.create(access_key=access_key)"
   ]
  },
  {
   "cell_type": "markdown",
   "id": "5ea46365",
   "metadata": {},
   "source": [
    "# Voice To Text"
   ]
  },
  {
   "cell_type": "code",
   "execution_count": 12,
   "id": "51181991",
   "metadata": {},
   "outputs": [],
   "source": [
    "audio_path = main_dir+\"/\"+str(folder_uid)+\"/\"+\"vid\"+str(folder_uid)+\".mp4\""
   ]
  },
  {
   "cell_type": "code",
   "execution_count": null,
   "id": "5863d23d",
   "metadata": {},
   "outputs": [],
   "source": [
    "transcript, words = leopard.process_file(audio_path)"
   ]
  },
  {
   "cell_type": "markdown",
   "id": "6730132b",
   "metadata": {},
   "source": [
    "# Converting Subtitles in srt Format"
   ]
  },
  {
   "cell_type": "code",
   "execution_count": null,
   "id": "1eee5a4b",
   "metadata": {},
   "outputs": [],
   "source": [
    "from typing import Sequence\n",
    "from typing import Optional\n",
    "\n",
    "def second_to_timecode(x: float) -> str:\n",
    "    hour, x = divmod(x, 3600)\n",
    "    minute, x = divmod(x, 60)\n",
    "    second, x = divmod(x, 1)\n",
    "    millisecond = int(x * 1000.)\n",
    "\n",
    "\n",
    "    return '%.2d:%.2d:%.2d,%.3d' % (hour, minute, second, millisecond)\n",
    "\n",
    "\n",
    "def to_srt(\n",
    "        words: Sequence[pvleopard.Leopard.Word],\n",
    "        endpoint_sec: float = 1.,\n",
    "        length_limit: Optional[int] = 16) -> str:\n",
    "    def _helper(end: int) -> None:\n",
    "        lines.append(\"%d\" % section)\n",
    "        lines.append(\n",
    "            \"%s --> %s\" %\n",
    "            (\n",
    "                second_to_timecode(words[start].start_sec),\n",
    "                second_to_timecode(words[end].end_sec)\n",
    "            )\n",
    "        )\n",
    "        lines.append(' '.join(x.word for x in words[start:(end + 1)]))\n",
    "        lines.append('')\n",
    "\n",
    "\n",
    "    lines = list()\n",
    "    section = 0\n",
    "    start = 0\n",
    "    for k in range(1, len(words)):\n",
    "        if ((words[k].start_sec - words[k - 1].end_sec) >= endpoint_sec) or \\\n",
    "                (length_limit is not None and (k - start) >= length_limit):\n",
    "            _helper(k - 1)\n",
    "            start = k\n",
    "            section += 1\n",
    "    _helper(len(words) - 1)\n",
    "\n",
    "\n",
    "    return '\\n'.join(lines)"
   ]
  },
  {
   "cell_type": "markdown",
   "id": "f3ec5937",
   "metadata": {},
   "source": [
    "# Storing srt file in the Corresponding Folder"
   ]
  },
  {
   "cell_type": "code",
   "execution_count": null,
   "id": "0f4576a9",
   "metadata": {},
   "outputs": [],
   "source": [
    "import os\n",
    "subtitle_path = main_dir+\"/\"+str(folder_uid)+\"/\"+\"sub\"+str(folder_uid)+\".srt\"\n",
    "with open(subtitle_path, 'w') as f:\n",
    "    f.write(to_srt(words))"
   ]
  }
 ],
 "metadata": {
  "kernelspec": {
   "display_name": "Python 3 (ipykernel)",
   "language": "python",
   "name": "python3"
  },
  "language_info": {
   "codemirror_mode": {
    "name": "ipython",
    "version": 3
   },
   "file_extension": ".py",
   "mimetype": "text/x-python",
   "name": "python",
   "nbconvert_exporter": "python",
   "pygments_lexer": "ipython3",
   "version": "3.10.2"
  }
 },
 "nbformat": 4,
 "nbformat_minor": 5
}
