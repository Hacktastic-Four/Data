{
 "cells": [
  {
   "cell_type": "code",
   "execution_count": 1,
   "id": "da965f6c",
   "metadata": {},
   "outputs": [
    {
     "name": "stdout",
     "output_type": "stream",
     "text": [
      "QAiFSCcHfTyLuHC-ZBALRYhPjIbuwtx\n"
     ]
    }
   ],
   "source": [
    "import random  ## Used for generating random string\n",
    "import string  ## Used for generating random string\n",
    "\n",
    "room_id = \"\"\n",
    "counter = 0\n",
    "ls_roomsId = []\n",
    "\n",
    "def get_random_string(length):\n",
    "    # choose from all lowercase letter\n",
    "    letters = string.ascii_letters\n",
    "    result_str = ''.join(random.choice(letters) for i in range(length))\n",
    "    return result_str\n",
    "\n",
    "\n",
    "while(room_id in ls_roomsId == False or counter ==0):\n",
    "    first = get_random_string(15)  ## first string of length 15\n",
    "    second = get_random_string(15)  ## second string of length 15\n",
    "    room_id = first+\"-\"+second  ## final room id\n",
    "    print(room_id)\n",
    "    counter+=1"
   ]
  }
 ],
 "metadata": {
  "kernelspec": {
   "display_name": "Python 3 (ipykernel)",
   "language": "python",
   "name": "python3"
  },
  "language_info": {
   "codemirror_mode": {
    "name": "ipython",
    "version": 3
   },
   "file_extension": ".py",
   "mimetype": "text/x-python",
   "name": "python",
   "nbconvert_exporter": "python",
   "pygments_lexer": "ipython3",
   "version": "3.10.2"
  }
 },
 "nbformat": 4,
 "nbformat_minor": 5
}
