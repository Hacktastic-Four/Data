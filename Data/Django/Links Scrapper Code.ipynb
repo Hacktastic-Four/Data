{
 "cells": [
  {
   "cell_type": "code",
   "execution_count": 1,
   "id": "20566a40",
   "metadata": {},
   "outputs": [],
   "source": [
    "from selenium import webdriver\n",
    "from selenium.webdriver.common.keys import Keys\n",
    "from selenium.webdriver.support import expected_conditions as EC\n",
    "from selenium.webdriver.common.by import By\n",
    "from selenium.webdriver.support.wait import WebDriverWait\n",
    "import time\n",
    "import pandas as pd\n",
    "import warnings\n",
    "warnings.filterwarnings('ignore')"
   ]
  },
  {
   "cell_type": "code",
   "execution_count": 42,
   "id": "6c6c22ab",
   "metadata": {},
   "outputs": [],
   "source": [
    "driver_path = 'C:/Program Files/Webdriver/chromedriver.exe'\n",
    "driver = webdriver.Chrome(driver_path)\n",
    "driver.get(\"https://stackoverflow.com/questions/tagged/machine-learning?tab=Votes\")"
   ]
  },
  {
   "cell_type": "code",
   "execution_count": 43,
   "id": "34263db3",
   "metadata": {},
   "outputs": [],
   "source": [
    "q_links = []"
   ]
  },
  {
   "cell_type": "code",
   "execution_count": 44,
   "id": "9e5cf430",
   "metadata": {},
   "outputs": [],
   "source": [
    "for i in range(5):\n",
    "    time.sleep(2)\n",
    "    ques_links = driver.find_elements_by_css_selector('#questions .s-link')\n",
    "    ques_links[0].get_attribute('href')\n",
    "    for j in range(len(ques_links)):\n",
    "        q_links.append( ques_links[j].get_attribute('href'))\n",
    "    driver.find_element_by_css_selector(\".s-pagination--item__clear~ .js-pagination-item+ .js-pagination-item\").click()"
   ]
  },
  {
   "cell_type": "code",
   "execution_count": 45,
   "id": "76a3b7ee",
   "metadata": {},
   "outputs": [],
   "source": [
    "df = pd.DataFrame(q_links, columns= ['Links'])"
   ]
  },
  {
   "cell_type": "code",
   "execution_count": 46,
   "id": "7abaf3ab",
   "metadata": {},
   "outputs": [
    {
     "data": {
      "text/plain": [
       "Links    https://stackoverflow.com/questions/2480650/wh...\n",
       "Name: 0, dtype: object"
      ]
     },
     "execution_count": 46,
     "metadata": {},
     "output_type": "execute_result"
    }
   ],
   "source": [
    "df.iloc[0]"
   ]
  },
  {
   "cell_type": "code",
   "execution_count": 47,
   "id": "d44fc6dc",
   "metadata": {},
   "outputs": [],
   "source": [
    "df.to_csv(\"ml_questions.csv\")"
   ]
  },
  {
   "cell_type": "code",
   "execution_count": null,
   "id": "1de71346",
   "metadata": {},
   "outputs": [],
   "source": []
  }
 ],
 "metadata": {
  "kernelspec": {
   "display_name": "Python 3 (ipykernel)",
   "language": "python",
   "name": "python3"
  },
  "language_info": {
   "codemirror_mode": {
    "name": "ipython",
    "version": 3
   },
   "file_extension": ".py",
   "mimetype": "text/x-python",
   "name": "python",
   "nbconvert_exporter": "python",
   "pygments_lexer": "ipython3",
   "version": "3.10.2"
  }
 },
 "nbformat": 4,
 "nbformat_minor": 5
}
