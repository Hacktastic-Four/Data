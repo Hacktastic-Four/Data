{
 "cells": [
  {
   "cell_type": "code",
   "execution_count": 1,
   "id": "92492e5b",
   "metadata": {},
   "outputs": [],
   "source": [
    "from selenium import webdriver\n",
    "from selenium.webdriver.common.keys import Keys\n",
    "from selenium.webdriver.support import expected_conditions as EC\n",
    "from selenium.webdriver.common.by import By\n",
    "from selenium.webdriver.support.wait import WebDriverWait\n",
    "import time\n",
    "import pandas as pd\n",
    "import os\n",
    "import warnings\n",
    "warnings.filterwarnings('ignore')"
   ]
  },
  {
   "cell_type": "code",
   "execution_count": 79,
   "id": "c73733cd",
   "metadata": {},
   "outputs": [],
   "source": [
    "data = pd.read_csv('ml_questions.csv')\n",
    "links = data['Links']"
   ]
  },
  {
   "cell_type": "code",
   "execution_count": 80,
   "id": "fb4dcbf0",
   "metadata": {},
   "outputs": [],
   "source": [
    "small_ques = []\n",
    "ques = []\n",
    "answers = []\n",
    "link = []"
   ]
  },
  {
   "cell_type": "code",
   "execution_count": 83,
   "id": "d2e45479",
   "metadata": {},
   "outputs": [],
   "source": [
    "for i in range(54,len(links)):\n",
    "    driver_path = 'C:/Program Files/Webdriver/chromedriver.exe'\n",
    "    driver = webdriver.Chrome(driver_path)\n",
    "    driver.get(links[i])\n",
    "    link.append(links[i])\n",
    "    s_q = driver.find_element_by_css_selector('#question-header .question-hyperlink')\n",
    "    small_ques.append(s_q.text)\n",
    "    que = driver.find_elements_by_css_selector('#question .js-post-body , #question .s-code-block')\n",
    "    question = \"\"\n",
    "    for j in range(len(que)):\n",
    "        question = question+ \"\\n\"+ que[j].text\n",
    "    ques.append(question)\n",
    "    ans = driver.find_elements_by_css_selector(\".js-accepted-answer .js-post-body , .js-accepted-answer .s-code-block\")\n",
    "    answer = \"\"\n",
    "    for j in range(len(ans)):\n",
    "        answer = answer+  \"\\n\"+ ans[j].text\n",
    "    answers.append(answer)\n",
    "    driver.close()"
   ]
  },
  {
   "cell_type": "code",
   "execution_count": 84,
   "id": "78a48254",
   "metadata": {},
   "outputs": [
    {
     "data": {
      "text/plain": [
       "75"
      ]
     },
     "execution_count": 84,
     "metadata": {},
     "output_type": "execute_result"
    }
   ],
   "source": [
    "len(ques)"
   ]
  },
  {
   "cell_type": "code",
   "execution_count": 85,
   "id": "a0936fbe",
   "metadata": {},
   "outputs": [],
   "source": [
    "super_ls = []\n",
    "for i in range(len(ques)):\n",
    "    super_ls.append([link[i], small_ques[i], ques[i], answers[i]])"
   ]
  },
  {
   "cell_type": "code",
   "execution_count": 86,
   "id": "ada15b1e",
   "metadata": {},
   "outputs": [],
   "source": [
    "dataframe  = pd.DataFrame(super_ls, columns=['Links', 'Header-Question', 'Full-Question', 'Answers'])"
   ]
  },
  {
   "cell_type": "code",
   "execution_count": 87,
   "id": "c3923d78",
   "metadata": {},
   "outputs": [
    {
     "data": {
      "text/html": [
       "<div>\n",
       "<style scoped>\n",
       "    .dataframe tbody tr th:only-of-type {\n",
       "        vertical-align: middle;\n",
       "    }\n",
       "\n",
       "    .dataframe tbody tr th {\n",
       "        vertical-align: top;\n",
       "    }\n",
       "\n",
       "    .dataframe thead th {\n",
       "        text-align: right;\n",
       "    }\n",
       "</style>\n",
       "<table border=\"1\" class=\"dataframe\">\n",
       "  <thead>\n",
       "    <tr style=\"text-align: right;\">\n",
       "      <th></th>\n",
       "      <th>Links</th>\n",
       "      <th>Header-Question</th>\n",
       "      <th>Full-Question</th>\n",
       "      <th>Answers</th>\n",
       "    </tr>\n",
       "  </thead>\n",
       "  <tbody>\n",
       "    <tr>\n",
       "      <th>0</th>\n",
       "      <td>https://stackoverflow.com/questions/2480650/wh...</td>\n",
       "      <td>What is the role of the bias in neural network...</td>\n",
       "      <td>\\nClosed. This question does not meet Stack Ov...</td>\n",
       "      <td>\\nI think that biases are almost always helpfu...</td>\n",
       "    </tr>\n",
       "    <tr>\n",
       "      <th>1</th>\n",
       "      <td>https://stackoverflow.com/questions/879432/wha...</td>\n",
       "      <td>What is the difference between a generative an...</td>\n",
       "      <td>\\nClosed. This question does not meet Stack Ov...</td>\n",
       "      <td>\\nLet's say you have input data x and you want...</td>\n",
       "    </tr>\n",
       "    <tr>\n",
       "      <th>2</th>\n",
       "      <td>https://stackoverflow.com/questions/10059594/a...</td>\n",
       "      <td>A simple explanation of Naive Bayes Classifica...</td>\n",
       "      <td>\\nClosed. This question does not meet Stack Ov...</td>\n",
       "      <td>\\nYour question as I understand it is divided ...</td>\n",
       "    </tr>\n",
       "    <tr>\n",
       "      <th>3</th>\n",
       "      <td>https://stackoverflow.com/questions/4752626/ep...</td>\n",
       "      <td>Epoch vs Iteration when training neural networ...</td>\n",
       "      <td>\\nClosed. This question does not meet Stack Ov...</td>\n",
       "      <td></td>\n",
       "    </tr>\n",
       "    <tr>\n",
       "      <th>4</th>\n",
       "      <td>https://stackoverflow.com/questions/34240703/w...</td>\n",
       "      <td>What are logits? What is the difference betwee...</td>\n",
       "      <td>\\nIn the tensorflow API docs they use a keywor...</td>\n",
       "      <td>\\nThe softmax+logits simply means that the fun...</td>\n",
       "    </tr>\n",
       "    <tr>\n",
       "      <th>...</th>\n",
       "      <td>...</td>\n",
       "      <td>...</td>\n",
       "      <td>...</td>\n",
       "      <td>...</td>\n",
       "    </tr>\n",
       "    <tr>\n",
       "      <th>70</th>\n",
       "      <td>https://stackoverflow.com/questions/62658215/c...</td>\n",
       "      <td>Extract upper or lower triangular part of a nu...</td>\n",
       "      <td>\\nI have a matrix A and I want 2 matrices U an...</td>\n",
       "      <td>\\nTry numpy.triu (triangle-upper) and numpy.tr...</td>\n",
       "    </tr>\n",
       "    <tr>\n",
       "      <th>71</th>\n",
       "      <td>https://stackoverflow.com/questions/8905501/ex...</td>\n",
       "      <td>Accuracy Score ValueError: Can't Handle mix of...</td>\n",
       "      <td>\\nI'm using linear_model.LinearRegression from...</td>\n",
       "      <td></td>\n",
       "    </tr>\n",
       "    <tr>\n",
       "      <th>72</th>\n",
       "      <td>https://stackoverflow.com/questions/38015181/a...</td>\n",
       "      <td>How to get Tensorflow tensor dimensions (shape...</td>\n",
       "      <td>\\nSuppose I have a Tensorflow tensor. How do I...</td>\n",
       "      <td>\\nTo get the shape as a list of ints, do tenso...</td>\n",
       "    </tr>\n",
       "    <tr>\n",
       "      <th>73</th>\n",
       "      <td>https://stackoverflow.com/questions/40666316/h...</td>\n",
       "      <td>What is the difference between np.mean and tf....</td>\n",
       "      <td>\\nIn the MNIST beginner tutorial, there is the...</td>\n",
       "      <td>\\nThe functionality of numpy.mean and tensorfl...</td>\n",
       "    </tr>\n",
       "    <tr>\n",
       "      <th>74</th>\n",
       "      <td>https://stackoverflow.com/questions/34236252/w...</td>\n",
       "      <td>What's the difference between torch.stack() an...</td>\n",
       "      <td>\\nOpenAI's REINFORCE and actor-critic example ...</td>\n",
       "      <td>\\nstack\\nConcatenates sequence of tensors alon...</td>\n",
       "    </tr>\n",
       "  </tbody>\n",
       "</table>\n",
       "<p>75 rows × 4 columns</p>\n",
       "</div>"
      ],
      "text/plain": [
       "                                                Links  \\\n",
       "0   https://stackoverflow.com/questions/2480650/wh...   \n",
       "1   https://stackoverflow.com/questions/879432/wha...   \n",
       "2   https://stackoverflow.com/questions/10059594/a...   \n",
       "3   https://stackoverflow.com/questions/4752626/ep...   \n",
       "4   https://stackoverflow.com/questions/34240703/w...   \n",
       "..                                                ...   \n",
       "70  https://stackoverflow.com/questions/62658215/c...   \n",
       "71  https://stackoverflow.com/questions/8905501/ex...   \n",
       "72  https://stackoverflow.com/questions/38015181/a...   \n",
       "73  https://stackoverflow.com/questions/40666316/h...   \n",
       "74  https://stackoverflow.com/questions/34236252/w...   \n",
       "\n",
       "                                      Header-Question  \\\n",
       "0   What is the role of the bias in neural network...   \n",
       "1   What is the difference between a generative an...   \n",
       "2   A simple explanation of Naive Bayes Classifica...   \n",
       "3   Epoch vs Iteration when training neural networ...   \n",
       "4   What are logits? What is the difference betwee...   \n",
       "..                                                ...   \n",
       "70  Extract upper or lower triangular part of a nu...   \n",
       "71  Accuracy Score ValueError: Can't Handle mix of...   \n",
       "72  How to get Tensorflow tensor dimensions (shape...   \n",
       "73  What is the difference between np.mean and tf....   \n",
       "74  What's the difference between torch.stack() an...   \n",
       "\n",
       "                                        Full-Question  \\\n",
       "0   \\nClosed. This question does not meet Stack Ov...   \n",
       "1   \\nClosed. This question does not meet Stack Ov...   \n",
       "2   \\nClosed. This question does not meet Stack Ov...   \n",
       "3   \\nClosed. This question does not meet Stack Ov...   \n",
       "4   \\nIn the tensorflow API docs they use a keywor...   \n",
       "..                                                ...   \n",
       "70  \\nI have a matrix A and I want 2 matrices U an...   \n",
       "71  \\nI'm using linear_model.LinearRegression from...   \n",
       "72  \\nSuppose I have a Tensorflow tensor. How do I...   \n",
       "73  \\nIn the MNIST beginner tutorial, there is the...   \n",
       "74  \\nOpenAI's REINFORCE and actor-critic example ...   \n",
       "\n",
       "                                              Answers  \n",
       "0   \\nI think that biases are almost always helpfu...  \n",
       "1   \\nLet's say you have input data x and you want...  \n",
       "2   \\nYour question as I understand it is divided ...  \n",
       "3                                                      \n",
       "4   \\nThe softmax+logits simply means that the fun...  \n",
       "..                                                ...  \n",
       "70  \\nTry numpy.triu (triangle-upper) and numpy.tr...  \n",
       "71                                                     \n",
       "72  \\nTo get the shape as a list of ints, do tenso...  \n",
       "73  \\nThe functionality of numpy.mean and tensorfl...  \n",
       "74  \\nstack\\nConcatenates sequence of tensors alon...  \n",
       "\n",
       "[75 rows x 4 columns]"
      ]
     },
     "execution_count": 87,
     "metadata": {},
     "output_type": "execute_result"
    }
   ],
   "source": [
    "dataframe"
   ]
  },
  {
   "cell_type": "code",
   "execution_count": 88,
   "id": "58413318",
   "metadata": {},
   "outputs": [],
   "source": [
    "dataframe.to_csv(\"ml_data.csv\")"
   ]
  },
  {
   "cell_type": "code",
   "execution_count": null,
   "id": "5f13cd89",
   "metadata": {},
   "outputs": [],
   "source": []
  }
 ],
 "metadata": {
  "kernelspec": {
   "display_name": "Python 3 (ipykernel)",
   "language": "python",
   "name": "python3"
  },
  "language_info": {
   "codemirror_mode": {
    "name": "ipython",
    "version": 3
   },
   "file_extension": ".py",
   "mimetype": "text/x-python",
   "name": "python",
   "nbconvert_exporter": "python",
   "pygments_lexer": "ipython3",
   "version": "3.10.2"
  }
 },
 "nbformat": 4,
 "nbformat_minor": 5
}
